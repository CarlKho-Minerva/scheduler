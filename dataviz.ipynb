{
 "cells": [
  {
   "cell_type": "code",
   "execution_count": null,
   "metadata": {},
   "outputs": [],
   "source": []
  },
  {
   "cell_type": "code",
   "execution_count": 1,
   "metadata": {},
   "outputs": [
    {
     "ename": "ModuleNotFoundError",
     "evalue": "No module named 'streamlit'",
     "output_type": "error",
     "traceback": [
      "\u001b[0;31m---------------------------------------------------------------------------\u001b[0m",
      "\u001b[0;31mModuleNotFoundError\u001b[0m                       Traceback (most recent call last)",
      "\u001b[1;32m/workspaces/scheduler/dataviz.ipynb Cell 1\u001b[0m line \u001b[0;36m1\n\u001b[0;32m----> <a href='vscode-notebook-cell://codespaces%2Bominous-space-pancake-jv5654xxwxphqw4r/workspaces/scheduler/dataviz.ipynb#W0sdnNjb2RlLXJlbW90ZQ%3D%3D?line=0'>1</a>\u001b[0m \u001b[39mimport\u001b[39;00m \u001b[39mstreamlit\u001b[39;00m \u001b[39mas\u001b[39;00m \u001b[39mst\u001b[39;00m\n\u001b[1;32m      <a href='vscode-notebook-cell://codespaces%2Bominous-space-pancake-jv5654xxwxphqw4r/workspaces/scheduler/dataviz.ipynb#W0sdnNjb2RlLXJlbW90ZQ%3D%3D?line=1'>2</a>\u001b[0m \u001b[39mimport\u001b[39;00m \u001b[39mplotly\u001b[39;00m\u001b[39m.\u001b[39;00m\u001b[39mexpress\u001b[39;00m \u001b[39mas\u001b[39;00m \u001b[39mpx\u001b[39;00m\n\u001b[1;32m      <a href='vscode-notebook-cell://codespaces%2Bominous-space-pancake-jv5654xxwxphqw4r/workspaces/scheduler/dataviz.ipynb#W0sdnNjb2RlLXJlbW90ZQ%3D%3D?line=2'>3</a>\u001b[0m \u001b[39mimport\u001b[39;00m \u001b[39mpandas\u001b[39;00m \u001b[39mas\u001b[39;00m \u001b[39mpd\u001b[39;00m\n",
      "\u001b[0;31mModuleNotFoundError\u001b[0m: No module named 'streamlit'"
     ]
    }
   ],
   "source": [
    "import streamlit as st\n",
    "import plotly.express as px\n",
    "import pandas as pd\n",
    "\n",
    "# Sample data\n",
    "data = {\n",
    "    'Date': pd.date_range(start='2018-04-01', periods=5, freq='Y').year,\n",
    "    'Facebook': [2.2e9, 2.3e9, 2.4e9, 2.5e9, 2.6e9],\n",
    "    'YouTube': [1.6e9, 1.7e9, 1.8e9, 1.9e9, 2.0e9],\n",
    "    'WhatsApp': [1.5e9, 1.55e9, 1.6e9, 1.65e9, 1.7e9],\n",
    "    # Add other platforms...\n",
    "}\n",
    "\n",
    "df = pd.DataFrame(data)\n",
    "df_long = df.melt(id_vars=['Date'], var_name='Platform', value_name='Users')\n",
    "\n",
    "# Create an animated line chart\n",
    "fig = px.line(df_long, x='Date', y='Users', color='Platform', animation_frame='Date', range_y=[df_long['Users'].min(), df_long['Users'].max()])\n",
    "\n",
    "# Update layout\n",
    "fig.update_layout(showlegend=True, updatemenus=[{\"type\": \"buttons\", \"buttons\": [{\"label\": \"Play\", \"method\": \"animate\", \"args\": [None]}]}])\n",
    "\n",
    "# Display the plot in Streamlit\n",
    "st.plotly_chart(fig, use_container_width=True)\n"
   ]
  },
  {
   "cell_type": "code",
   "execution_count": null,
   "metadata": {},
   "outputs": [],
   "source": []
  }
 ],
 "metadata": {
  "kernelspec": {
   "display_name": "Python 3",
   "language": "python",
   "name": "python3"
  },
  "language_info": {
   "codemirror_mode": {
    "name": "ipython",
    "version": 3
   },
   "file_extension": ".py",
   "mimetype": "text/x-python",
   "name": "python",
   "nbconvert_exporter": "python",
   "pygments_lexer": "ipython3",
   "version": "3.10.13"
  }
 },
 "nbformat": 4,
 "nbformat_minor": 2
}
